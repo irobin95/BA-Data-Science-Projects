{
 "cells": [
  {
   "cell_type": "code",
   "execution_count": 1,
   "id": "8cf068d3",
   "metadata": {},
   "outputs": [],
   "source": [
    "import pandas as pd\n",
    "import numpy as np\n",
    "import seaborn as sns\n",
    "import matplotlib.pyplot as plt\n",
    "import datetime as dt\n",
    "import plotly.express as px"
   ]
  },
  {
   "cell_type": "code",
   "execution_count": 2,
   "id": "f98bfef5",
   "metadata": {},
   "outputs": [],
   "source": [
    "df= pd.read_csv('british_airways_reviews.csv')"
   ]
  },
  {
   "cell_type": "code",
   "execution_count": 5,
   "id": "309f443a",
   "metadata": {},
   "outputs": [
    {
     "data": {
      "text/html": [
       "<div>\n",
       "<style scoped>\n",
       "    .dataframe tbody tr th:only-of-type {\n",
       "        vertical-align: middle;\n",
       "    }\n",
       "\n",
       "    .dataframe tbody tr th {\n",
       "        vertical-align: top;\n",
       "    }\n",
       "\n",
       "    .dataframe thead th {\n",
       "        text-align: right;\n",
       "    }\n",
       "</style>\n",
       "<table border=\"1\" class=\"dataframe\">\n",
       "  <thead>\n",
       "    <tr style=\"text-align: right;\">\n",
       "      <th></th>\n",
       "      <th>review_title</th>\n",
       "      <th>review_content</th>\n",
       "      <th>stars</th>\n",
       "      <th>review_date</th>\n",
       "      <th>country</th>\n",
       "      <th>route</th>\n",
       "      <th>seat_type</th>\n",
       "      <th>date_flown</th>\n",
       "    </tr>\n",
       "  </thead>\n",
       "  <tbody>\n",
       "    <tr>\n",
       "      <th>0</th>\n",
       "      <td>“A very poor experience”</td>\n",
       "      <td>✅Trip Verified|   I had visa issues, and hence...</td>\n",
       "      <td>1.0</td>\n",
       "      <td>5th November 2024</td>\n",
       "      <td>India</td>\n",
       "      <td>Mumbai to London</td>\n",
       "      <td>Premium Economy</td>\n",
       "      <td>November 2024</td>\n",
       "    </tr>\n",
       "    <tr>\n",
       "      <th>1</th>\n",
       "      <td>\"food and beverages being targeted\"</td>\n",
       "      <td>✅Trip Verified|   Singapore to Heathrow with B...</td>\n",
       "      <td>6.0</td>\n",
       "      <td>5th November 2024</td>\n",
       "      <td>United Kingdom</td>\n",
       "      <td>Singapore to London</td>\n",
       "      <td>Business Class</td>\n",
       "      <td>November 2024</td>\n",
       "    </tr>\n",
       "    <tr>\n",
       "      <th>2</th>\n",
       "      <td>\"never fly with them again\"</td>\n",
       "      <td>✅Trip Verified|   I recently travelled from Mu...</td>\n",
       "      <td>1.0</td>\n",
       "      <td>3rd November 2024</td>\n",
       "      <td>United Kingdom</td>\n",
       "      <td>Munich to London Heathrow</td>\n",
       "      <td>Economy Class</td>\n",
       "      <td>October 2024</td>\n",
       "    </tr>\n",
       "    <tr>\n",
       "      <th>3</th>\n",
       "      <td>\"still have not heard any updates\"</td>\n",
       "      <td>Not Verified|  I paid for seats 80 A and B on ...</td>\n",
       "      <td>3.0</td>\n",
       "      <td>3rd November 2024</td>\n",
       "      <td>United States</td>\n",
       "      <td>Heathrow to Boston</td>\n",
       "      <td>Premium Economy</td>\n",
       "      <td>September 2024</td>\n",
       "    </tr>\n",
       "    <tr>\n",
       "      <th>4</th>\n",
       "      <td>\"cabin crew were nice\"</td>\n",
       "      <td>Not Verified| The flight wasn’t that bad, alth...</td>\n",
       "      <td>7.0</td>\n",
       "      <td>3rd November 2024</td>\n",
       "      <td>United Kingdom</td>\n",
       "      <td>Los Angeles to London Heathrow</td>\n",
       "      <td>Economy Class</td>\n",
       "      <td>November 2024</td>\n",
       "    </tr>\n",
       "  </tbody>\n",
       "</table>\n",
       "</div>"
      ],
      "text/plain": [
       "                          review_title  \\\n",
       "0             “A very poor experience”   \n",
       "1  \"food and beverages being targeted\"   \n",
       "2          \"never fly with them again\"   \n",
       "3   \"still have not heard any updates\"   \n",
       "4               \"cabin crew were nice\"   \n",
       "\n",
       "                                      review_content  stars  \\\n",
       "0  ✅Trip Verified|   I had visa issues, and hence...    1.0   \n",
       "1  ✅Trip Verified|   Singapore to Heathrow with B...    6.0   \n",
       "2  ✅Trip Verified|   I recently travelled from Mu...    1.0   \n",
       "3  Not Verified|  I paid for seats 80 A and B on ...    3.0   \n",
       "4  Not Verified| The flight wasn’t that bad, alth...    7.0   \n",
       "\n",
       "         review_date         country                           route  \\\n",
       "0  5th November 2024           India                Mumbai to London   \n",
       "1  5th November 2024  United Kingdom             Singapore to London   \n",
       "2  3rd November 2024  United Kingdom       Munich to London Heathrow   \n",
       "3  3rd November 2024   United States              Heathrow to Boston   \n",
       "4  3rd November 2024  United Kingdom  Los Angeles to London Heathrow   \n",
       "\n",
       "         seat_type      date_flown  \n",
       "0  Premium Economy   November 2024  \n",
       "1   Business Class   November 2024  \n",
       "2    Economy Class    October 2024  \n",
       "3  Premium Economy  September 2024  \n",
       "4    Economy Class   November 2024  "
      ]
     },
     "execution_count": 5,
     "metadata": {},
     "output_type": "execute_result"
    }
   ],
   "source": [
    "df.head()"
   ]
  },
  {
   "cell_type": "code",
   "execution_count": 6,
   "id": "8d9892b3",
   "metadata": {},
   "outputs": [
    {
     "data": {
      "text/plain": [
       "(3600, 8)"
      ]
     },
     "execution_count": 6,
     "metadata": {},
     "output_type": "execute_result"
    }
   ],
   "source": [
    "df.shape"
   ]
  },
  {
   "cell_type": "code",
   "execution_count": 7,
   "id": "7e4111cd",
   "metadata": {},
   "outputs": [
    {
     "name": "stdout",
     "output_type": "stream",
     "text": [
      "<class 'pandas.core.frame.DataFrame'>\n",
      "RangeIndex: 3600 entries, 0 to 3599\n",
      "Data columns (total 8 columns):\n",
      " #   Column          Non-Null Count  Dtype  \n",
      "---  ------          --------------  -----  \n",
      " 0   review_title    3600 non-null   object \n",
      " 1   review_content  3600 non-null   object \n",
      " 2   stars           3597 non-null   float64\n",
      " 3   review_date     3600 non-null   object \n",
      " 4   country         3598 non-null   object \n",
      " 5   route           3110 non-null   object \n",
      " 6   seat_type       3598 non-null   object \n",
      " 7   date_flown      3108 non-null   object \n",
      "dtypes: float64(1), object(7)\n",
      "memory usage: 225.1+ KB\n"
     ]
    }
   ],
   "source": [
    "df.info()"
   ]
  },
  {
   "cell_type": "code",
   "execution_count": 8,
   "id": "42686033",
   "metadata": {},
   "outputs": [],
   "source": [
    "# Rename a column in-place\n",
    "# df.rename(columns={'stars': 'rating', 'review_content':'reviews' }, inplace=True)\n"
   ]
  },
  {
   "cell_type": "code",
   "execution_count": 9,
   "id": "7fcd815f",
   "metadata": {},
   "outputs": [],
   "source": [
    "# Creating columns of verified and not verified reviewers\n",
    "df['verified'] = df.review_content.str.contains(\"Trip Verified\")\n"
   ]
  },
  {
   "cell_type": "code",
   "execution_count": 10,
   "id": "0a90954e",
   "metadata": {},
   "outputs": [
    {
     "data": {
      "text/html": [
       "<div>\n",
       "<style scoped>\n",
       "    .dataframe tbody tr th:only-of-type {\n",
       "        vertical-align: middle;\n",
       "    }\n",
       "\n",
       "    .dataframe tbody tr th {\n",
       "        vertical-align: top;\n",
       "    }\n",
       "\n",
       "    .dataframe thead th {\n",
       "        text-align: right;\n",
       "    }\n",
       "</style>\n",
       "<table border=\"1\" class=\"dataframe\">\n",
       "  <thead>\n",
       "    <tr style=\"text-align: right;\">\n",
       "      <th></th>\n",
       "      <th>review_title</th>\n",
       "      <th>review_content</th>\n",
       "      <th>stars</th>\n",
       "      <th>review_date</th>\n",
       "      <th>country</th>\n",
       "      <th>route</th>\n",
       "      <th>seat_type</th>\n",
       "      <th>date_flown</th>\n",
       "      <th>verified</th>\n",
       "    </tr>\n",
       "  </thead>\n",
       "  <tbody>\n",
       "    <tr>\n",
       "      <th>0</th>\n",
       "      <td>“A very poor experience”</td>\n",
       "      <td>✅Trip Verified|   I had visa issues, and hence...</td>\n",
       "      <td>1.0</td>\n",
       "      <td>5th November 2024</td>\n",
       "      <td>India</td>\n",
       "      <td>Mumbai to London</td>\n",
       "      <td>Premium Economy</td>\n",
       "      <td>November 2024</td>\n",
       "      <td>True</td>\n",
       "    </tr>\n",
       "    <tr>\n",
       "      <th>1</th>\n",
       "      <td>\"food and beverages being targeted\"</td>\n",
       "      <td>✅Trip Verified|   Singapore to Heathrow with B...</td>\n",
       "      <td>6.0</td>\n",
       "      <td>5th November 2024</td>\n",
       "      <td>United Kingdom</td>\n",
       "      <td>Singapore to London</td>\n",
       "      <td>Business Class</td>\n",
       "      <td>November 2024</td>\n",
       "      <td>True</td>\n",
       "    </tr>\n",
       "    <tr>\n",
       "      <th>2</th>\n",
       "      <td>\"never fly with them again\"</td>\n",
       "      <td>✅Trip Verified|   I recently travelled from Mu...</td>\n",
       "      <td>1.0</td>\n",
       "      <td>3rd November 2024</td>\n",
       "      <td>United Kingdom</td>\n",
       "      <td>Munich to London Heathrow</td>\n",
       "      <td>Economy Class</td>\n",
       "      <td>October 2024</td>\n",
       "      <td>True</td>\n",
       "    </tr>\n",
       "    <tr>\n",
       "      <th>3</th>\n",
       "      <td>\"still have not heard any updates\"</td>\n",
       "      <td>Not Verified|  I paid for seats 80 A and B on ...</td>\n",
       "      <td>3.0</td>\n",
       "      <td>3rd November 2024</td>\n",
       "      <td>United States</td>\n",
       "      <td>Heathrow to Boston</td>\n",
       "      <td>Premium Economy</td>\n",
       "      <td>September 2024</td>\n",
       "      <td>False</td>\n",
       "    </tr>\n",
       "    <tr>\n",
       "      <th>4</th>\n",
       "      <td>\"cabin crew were nice\"</td>\n",
       "      <td>Not Verified| The flight wasn’t that bad, alth...</td>\n",
       "      <td>7.0</td>\n",
       "      <td>3rd November 2024</td>\n",
       "      <td>United Kingdom</td>\n",
       "      <td>Los Angeles to London Heathrow</td>\n",
       "      <td>Economy Class</td>\n",
       "      <td>November 2024</td>\n",
       "      <td>False</td>\n",
       "    </tr>\n",
       "  </tbody>\n",
       "</table>\n",
       "</div>"
      ],
      "text/plain": [
       "                          review_title  \\\n",
       "0             “A very poor experience”   \n",
       "1  \"food and beverages being targeted\"   \n",
       "2          \"never fly with them again\"   \n",
       "3   \"still have not heard any updates\"   \n",
       "4               \"cabin crew were nice\"   \n",
       "\n",
       "                                      review_content  stars  \\\n",
       "0  ✅Trip Verified|   I had visa issues, and hence...    1.0   \n",
       "1  ✅Trip Verified|   Singapore to Heathrow with B...    6.0   \n",
       "2  ✅Trip Verified|   I recently travelled from Mu...    1.0   \n",
       "3  Not Verified|  I paid for seats 80 A and B on ...    3.0   \n",
       "4  Not Verified| The flight wasn’t that bad, alth...    7.0   \n",
       "\n",
       "         review_date         country                           route  \\\n",
       "0  5th November 2024           India                Mumbai to London   \n",
       "1  5th November 2024  United Kingdom             Singapore to London   \n",
       "2  3rd November 2024  United Kingdom       Munich to London Heathrow   \n",
       "3  3rd November 2024   United States              Heathrow to Boston   \n",
       "4  3rd November 2024  United Kingdom  Los Angeles to London Heathrow   \n",
       "\n",
       "         seat_type      date_flown  verified  \n",
       "0  Premium Economy   November 2024      True  \n",
       "1   Business Class   November 2024      True  \n",
       "2    Economy Class    October 2024      True  \n",
       "3  Premium Economy  September 2024     False  \n",
       "4    Economy Class   November 2024     False  "
      ]
     },
     "execution_count": 10,
     "metadata": {},
     "output_type": "execute_result"
    }
   ],
   "source": [
    "df.head()"
   ]
  },
  {
   "cell_type": "code",
   "execution_count": 12,
   "id": "88a3e1a5",
   "metadata": {},
   "outputs": [
    {
     "name": "stdout",
     "output_type": "stream",
     "text": [
      "verified: 1283\n",
      "not-verified: 2317\n"
     ]
    }
   ],
   "source": [
    "print('verified:',df['verified'].sum())\n",
    "print('not-verified:', len(df)- df['verified'].sum())"
   ]
  },
  {
   "cell_type": "code",
   "execution_count": 14,
   "id": "d5a449b2",
   "metadata": {},
   "outputs": [],
   "source": [
    "# converting written date formate into number formate\n",
    "\n",
    "# Ensure suffixes (st, nd, rd, th) are removed from 'review_date'\n",
    "df['review_date'] = df['review_date'].str.replace(r'(\\d+)(st|nd|rd|th)', r'\\1', regex=True)\n",
    "\n",
    "# Convert 'review_date' to datetime, with error handling\n",
    "df['review_date'] = pd.to_datetime(df['review_date'], errors='coerce', dayfirst=True)\n"
   ]
  },
  {
   "cell_type": "code",
   "execution_count": 16,
   "id": "671a03ea",
   "metadata": {},
   "outputs": [
    {
     "data": {
      "text/plain": [
       "0   2024-11-05\n",
       "1   2024-11-05\n",
       "2   2024-11-03\n",
       "3   2024-11-03\n",
       "4   2024-11-03\n",
       "Name: review_date, dtype: datetime64[ns]"
      ]
     },
     "execution_count": 16,
     "metadata": {},
     "output_type": "execute_result"
    }
   ],
   "source": [
    "df.review_date.head()"
   ]
  },
  {
   "cell_type": "code",
   "execution_count": 17,
   "id": "f2cd2686",
   "metadata": {},
   "outputs": [
    {
     "data": {
      "text/plain": [
       "review_title        0\n",
       "review_content      0\n",
       "stars               3\n",
       "review_date         0\n",
       "country             2\n",
       "route             490\n",
       "seat_type           2\n",
       "date_flown        492\n",
       "verified            0\n",
       "dtype: int64"
      ]
     },
     "execution_count": 17,
     "metadata": {},
     "output_type": "execute_result"
    }
   ],
   "source": [
    "df.isnull().sum()"
   ]
  },
  {
   "cell_type": "code",
   "execution_count": 18,
   "id": "e005156c",
   "metadata": {},
   "outputs": [
    {
     "name": "stderr",
     "output_type": "stream",
     "text": [
      "C:\\Users\\Dell\\AppData\\Local\\Temp\\ipykernel_15316\\3447453583.py:2: FutureWarning: A value is trying to be set on a copy of a DataFrame or Series through chained assignment using an inplace method.\n",
      "The behavior will change in pandas 3.0. This inplace method will never work because the intermediate object on which we are setting values always behaves as a copy.\n",
      "\n",
      "For example, when doing 'df[col].method(value, inplace=True)', try using 'df.method({col: value}, inplace=True)' or df[col] = df[col].method(value) instead, to perform the operation inplace on the original object.\n",
      "\n",
      "\n",
      "  df['stars'].fillna(df['stars'].mode()[0], inplace=True)\n",
      "C:\\Users\\Dell\\AppData\\Local\\Temp\\ipykernel_15316\\3447453583.py:8: FutureWarning: A value is trying to be set on a copy of a DataFrame or Series through chained assignment using an inplace method.\n",
      "The behavior will change in pandas 3.0. This inplace method will never work because the intermediate object on which we are setting values always behaves as a copy.\n",
      "\n",
      "For example, when doing 'df[col].method(value, inplace=True)', try using 'df.method({col: value}, inplace=True)' or df[col] = df[col].method(value) instead, to perform the operation inplace on the original object.\n",
      "\n",
      "\n",
      "  df['seat_type'].fillna(df['seat_type'].mode()[0], inplace=True)\n",
      "C:\\Users\\Dell\\AppData\\Local\\Temp\\ipykernel_15316\\3447453583.py:8: SettingWithCopyWarning: \n",
      "A value is trying to be set on a copy of a slice from a DataFrame\n",
      "\n",
      "See the caveats in the documentation: https://pandas.pydata.org/pandas-docs/stable/user_guide/indexing.html#returning-a-view-versus-a-copy\n",
      "  df['seat_type'].fillna(df['seat_type'].mode()[0], inplace=True)\n"
     ]
    }
   ],
   "source": [
    "# Filling missing values in 'stars' with the mode (most common rating)\n",
    "df['stars'].fillna(df['stars'].mode()[0], inplace=True)\n",
    "\n",
    "# Drop rows where 'country' column has null values\n",
    "df = df.dropna(subset=['country'])\n",
    "\n",
    "# Filling missing values in 'seat_type' with the mode (most common seat type)\n",
    "df['seat_type'].fillna(df['seat_type'].mode()[0], inplace=True)\n"
   ]
  },
  {
   "cell_type": "code",
   "execution_count": 21,
   "id": "27602e27",
   "metadata": {},
   "outputs": [
    {
     "data": {
      "text/plain": [
       "review_title        0\n",
       "review_content      0\n",
       "stars               0\n",
       "review_date         0\n",
       "country             0\n",
       "route             488\n",
       "seat_type           0\n",
       "date_flown        490\n",
       "verified            0\n",
       "dtype: int64"
      ]
     },
     "execution_count": 21,
     "metadata": {},
     "output_type": "execute_result"
    }
   ],
   "source": [
    "df.isnull().sum()"
   ]
  },
  {
   "cell_type": "code",
   "execution_count": 22,
   "id": "e5fb9e38",
   "metadata": {},
   "outputs": [
    {
     "data": {
      "text/plain": [
       "(3598, 9)"
      ]
     },
     "execution_count": 22,
     "metadata": {},
     "output_type": "execute_result"
    }
   ],
   "source": [
    "df.shape"
   ]
  },
  {
   "cell_type": "markdown",
   "id": "6236cd27",
   "metadata": {},
   "source": [
    "### Text Preprocessing for Reviews\n",
    "### In this step, we will preprocess the review_content data by removing specific strings and cleaning the text. The goal is to prepare the data for semantic analysis by normalizing the text through the following processes."
   ]
  },
  {
   "cell_type": "code",
   "execution_count": 23,
   "id": "230db6a3",
   "metadata": {},
   "outputs": [
    {
     "name": "stdout",
     "output_type": "stream",
     "text": [
      "                                      review_content  \\\n",
      "0  ✅Trip Verified|   I had visa issues, and hence...   \n",
      "1  ✅Trip Verified|   Singapore to Heathrow with B...   \n",
      "2  ✅Trip Verified|   I recently travelled from Mu...   \n",
      "3  Not Verified|  I paid for seats 80 A and B on ...   \n",
      "4  Not Verified| The flight wasn’t that bad, alth...   \n",
      "\n",
      "                                     cleaned_reviews  \n",
      "0  visa issue hence debarred flying ground staff ...  \n",
      "1  singapore heathrow ba two choice route economy...  \n",
      "2  recently travelled munich london british airwa...  \n",
      "3  verified paid seat b flight heathrow boston pa...  \n",
      "4  verified flight bad although inflight entertai...  \n"
     ]
    }
   ],
   "source": [
    "import re\n",
    "from nltk.stem import WordNetLemmatizer\n",
    "from nltk.corpus import stopwords\n",
    "\n",
    "# required nltk resources download\n",
    "import nltk\n",
    "#nltk.download('punkt')\n",
    "#nltk.download('wordnet')\n",
    "#nltk.download('stopwords')\n",
    "\n",
    "# Initialize the lemmatizer\n",
    "lemma = WordNetLemmatizer()\n",
    "\n",
    "# Extract the reviews column from the DataFrame\n",
    "reviews_data = df['review_content'].str.strip(\"✅ Trip Verified |\")\n",
    "\n",
    "# Create an empty list to collect cleaned data corpus\n",
    "corpus = []\n",
    "\n",
    "# Loop through each review, clean it, and add it to the corpus\n",
    "for rev in reviews_data:\n",
    "    # Remove non-alphabetic characters\n",
    "    rev = re.sub('[^a-zA-Z]', ' ', rev)\n",
    "    # Convert to lowercase\n",
    "    rev = rev.lower()\n",
    "    # Split into words\n",
    "    rev = rev.split()\n",
    "    # Remove stopwords and lemmatize the words\n",
    "    rev = [lemma.lemmatize(word) for word in rev if word not in set(stopwords.words(\"english\"))]\n",
    "    # Join the cleaned words back into a single string\n",
    "    rev = \" \".join(rev)\n",
    "    # Append the cleaned review to the corpus\n",
    "    corpus.append(rev)\n",
    "\n",
    "# Optional: If you want to add the cleaned reviews back to the DataFrame\n",
    "df['cleaned_reviews'] = corpus\n",
    "\n",
    "# Display the cleaned reviews\n",
    "print(df[['review_content', 'cleaned_reviews']].head())\n"
   ]
  },
  {
   "cell_type": "code",
   "execution_count": 24,
   "id": "01818931",
   "metadata": {
    "scrolled": true
   },
   "outputs": [
    {
     "data": {
      "text/html": [
       "<div>\n",
       "<style scoped>\n",
       "    .dataframe tbody tr th:only-of-type {\n",
       "        vertical-align: middle;\n",
       "    }\n",
       "\n",
       "    .dataframe tbody tr th {\n",
       "        vertical-align: top;\n",
       "    }\n",
       "\n",
       "    .dataframe thead th {\n",
       "        text-align: right;\n",
       "    }\n",
       "</style>\n",
       "<table border=\"1\" class=\"dataframe\">\n",
       "  <thead>\n",
       "    <tr style=\"text-align: right;\">\n",
       "      <th></th>\n",
       "      <th>review_title</th>\n",
       "      <th>review_content</th>\n",
       "      <th>stars</th>\n",
       "      <th>review_date</th>\n",
       "      <th>country</th>\n",
       "      <th>route</th>\n",
       "      <th>seat_type</th>\n",
       "      <th>date_flown</th>\n",
       "      <th>verified</th>\n",
       "      <th>cleaned_reviews</th>\n",
       "    </tr>\n",
       "  </thead>\n",
       "  <tbody>\n",
       "    <tr>\n",
       "      <th>0</th>\n",
       "      <td>“A very poor experience”</td>\n",
       "      <td>✅Trip Verified|   I had visa issues, and hence...</td>\n",
       "      <td>1.0</td>\n",
       "      <td>2024-11-05</td>\n",
       "      <td>India</td>\n",
       "      <td>Mumbai to London</td>\n",
       "      <td>Premium Economy</td>\n",
       "      <td>November 2024</td>\n",
       "      <td>True</td>\n",
       "      <td>visa issue hence debarred flying ground staff ...</td>\n",
       "    </tr>\n",
       "    <tr>\n",
       "      <th>1</th>\n",
       "      <td>\"food and beverages being targeted\"</td>\n",
       "      <td>✅Trip Verified|   Singapore to Heathrow with B...</td>\n",
       "      <td>6.0</td>\n",
       "      <td>2024-11-05</td>\n",
       "      <td>United Kingdom</td>\n",
       "      <td>Singapore to London</td>\n",
       "      <td>Business Class</td>\n",
       "      <td>November 2024</td>\n",
       "      <td>True</td>\n",
       "      <td>singapore heathrow ba two choice route economy...</td>\n",
       "    </tr>\n",
       "    <tr>\n",
       "      <th>2</th>\n",
       "      <td>\"never fly with them again\"</td>\n",
       "      <td>✅Trip Verified|   I recently travelled from Mu...</td>\n",
       "      <td>1.0</td>\n",
       "      <td>2024-11-03</td>\n",
       "      <td>United Kingdom</td>\n",
       "      <td>Munich to London Heathrow</td>\n",
       "      <td>Economy Class</td>\n",
       "      <td>October 2024</td>\n",
       "      <td>True</td>\n",
       "      <td>recently travelled munich london british airwa...</td>\n",
       "    </tr>\n",
       "    <tr>\n",
       "      <th>3</th>\n",
       "      <td>\"still have not heard any updates\"</td>\n",
       "      <td>Not Verified|  I paid for seats 80 A and B on ...</td>\n",
       "      <td>3.0</td>\n",
       "      <td>2024-11-03</td>\n",
       "      <td>United States</td>\n",
       "      <td>Heathrow to Boston</td>\n",
       "      <td>Premium Economy</td>\n",
       "      <td>September 2024</td>\n",
       "      <td>False</td>\n",
       "      <td>verified paid seat b flight heathrow boston pa...</td>\n",
       "    </tr>\n",
       "    <tr>\n",
       "      <th>4</th>\n",
       "      <td>\"cabin crew were nice\"</td>\n",
       "      <td>Not Verified| The flight wasn’t that bad, alth...</td>\n",
       "      <td>7.0</td>\n",
       "      <td>2024-11-03</td>\n",
       "      <td>United Kingdom</td>\n",
       "      <td>Los Angeles to London Heathrow</td>\n",
       "      <td>Economy Class</td>\n",
       "      <td>November 2024</td>\n",
       "      <td>False</td>\n",
       "      <td>verified flight bad although inflight entertai...</td>\n",
       "    </tr>\n",
       "  </tbody>\n",
       "</table>\n",
       "</div>"
      ],
      "text/plain": [
       "                          review_title  \\\n",
       "0             “A very poor experience”   \n",
       "1  \"food and beverages being targeted\"   \n",
       "2          \"never fly with them again\"   \n",
       "3   \"still have not heard any updates\"   \n",
       "4               \"cabin crew were nice\"   \n",
       "\n",
       "                                      review_content  stars review_date  \\\n",
       "0  ✅Trip Verified|   I had visa issues, and hence...    1.0  2024-11-05   \n",
       "1  ✅Trip Verified|   Singapore to Heathrow with B...    6.0  2024-11-05   \n",
       "2  ✅Trip Verified|   I recently travelled from Mu...    1.0  2024-11-03   \n",
       "3  Not Verified|  I paid for seats 80 A and B on ...    3.0  2024-11-03   \n",
       "4  Not Verified| The flight wasn’t that bad, alth...    7.0  2024-11-03   \n",
       "\n",
       "          country                           route        seat_type  \\\n",
       "0           India                Mumbai to London  Premium Economy   \n",
       "1  United Kingdom             Singapore to London   Business Class   \n",
       "2  United Kingdom       Munich to London Heathrow    Economy Class   \n",
       "3   United States              Heathrow to Boston  Premium Economy   \n",
       "4  United Kingdom  Los Angeles to London Heathrow    Economy Class   \n",
       "\n",
       "       date_flown  verified                                    cleaned_reviews  \n",
       "0   November 2024      True  visa issue hence debarred flying ground staff ...  \n",
       "1   November 2024      True  singapore heathrow ba two choice route economy...  \n",
       "2    October 2024      True  recently travelled munich london british airwa...  \n",
       "3  September 2024     False  verified paid seat b flight heathrow boston pa...  \n",
       "4   November 2024     False  verified flight bad although inflight entertai...  "
      ]
     },
     "execution_count": 24,
     "metadata": {},
     "output_type": "execute_result"
    }
   ],
   "source": [
    "df.head()"
   ]
  },
  {
   "cell_type": "code",
   "execution_count": 29,
   "id": "eb22f507",
   "metadata": {},
   "outputs": [
    {
     "name": "stdout",
     "output_type": "stream",
     "text": [
      "Index(['review_title', 'review_content', 'stars', 'review_date', 'country',\n",
      "       'route', 'seat_type', 'date_flown', 'verified', 'cleaned_reviews'],\n",
      "      dtype='object')\n"
     ]
    }
   ],
   "source": [
    "print(df.columns)"
   ]
  },
  {
   "cell_type": "code",
   "execution_count": 30,
   "id": "41b6ffd4",
   "metadata": {},
   "outputs": [
    {
     "data": {
      "text/plain": [
       "review_title               object\n",
       "review_content             object\n",
       "stars                     float64\n",
       "review_date        datetime64[ns]\n",
       "country                    object\n",
       "route                      object\n",
       "seat_type                  object\n",
       "date_flown                 object\n",
       "verified                     bool\n",
       "cleaned_reviews            object\n",
       "dtype: object"
      ]
     },
     "execution_count": 30,
     "metadata": {},
     "output_type": "execute_result"
    }
   ],
   "source": [
    "df.dtypes"
   ]
  },
  {
   "cell_type": "code",
   "execution_count": 31,
   "id": "1d1904ea",
   "metadata": {},
   "outputs": [
    {
     "name": "stdout",
     "output_type": "stream",
     "text": [
      "review_title  review_content  stars  review_date  country  route  seat_type  date_flown  verified  cleaned_reviews\n",
      "False         False           False  False        False    False  False      False       False     False              3102\n",
      "                                                           True   False      True        False     False               482\n",
      "                                                           False  False      True        False     False                 8\n",
      "                                                           True   False      False       False     False                 6\n",
      "Name: count, dtype: int64\n"
     ]
    }
   ],
   "source": [
    "## check null values for all\n",
    "print(df.isnull().value_counts())"
   ]
  },
  {
   "cell_type": "code",
   "execution_count": 32,
   "id": "e61a2457",
   "metadata": {},
   "outputs": [
    {
     "data": {
      "text/plain": [
       "stars\n",
       "1.0     905\n",
       "2.0     416\n",
       "3.0     411\n",
       "8.0     354\n",
       "10.0    296\n",
       "9.0     290\n",
       "7.0     283\n",
       "4.0     245\n",
       "5.0     219\n",
       "6.0     179\n",
       "Name: count, dtype: int64"
      ]
     },
     "execution_count": 32,
     "metadata": {},
     "output_type": "execute_result"
    }
   ],
   "source": [
    "df.stars.value_counts()"
   ]
  },
  {
   "cell_type": "markdown",
   "id": "5b5cdd3f",
   "metadata": {},
   "source": [
    "## Check anomolies"
   ]
  },
  {
   "cell_type": "code",
   "execution_count": 34,
   "id": "a8f40c72",
   "metadata": {},
   "outputs": [
    {
     "name": "stdout",
     "output_type": "stream",
     "text": [
      "Unique values in 'stars': [ 1.  6.  3.  7.  9.  5.  2.  8.  4. 10.]\n",
      "Unique values in 'country': ['India' 'United Kingdom' 'United States' 'Canada' 'Switzerland'\n",
      " 'South Africa' 'Germany' 'Morocco' 'Australia' 'Hong Kong' 'Lebanon'\n",
      " 'Italy' 'New Zealand' 'Austria' 'Denmark' 'Singapore' 'Netherlands'\n",
      " 'Belgium' 'Nigeria' 'Japan' 'Ukraine' 'Ireland' 'Spain' 'China' 'Ecuador'\n",
      " 'Romania' 'France' 'Kuwait' 'Iceland' 'Poland' 'Qatar' 'Greece' 'Senegal'\n",
      " 'United Arab Emirates' 'Cyprus' 'Chile' 'Sweden' 'Czech Republic'\n",
      " 'Malaysia' 'Ghana' 'Bermuda' 'Botswana' 'Brazil' 'Panama'\n",
      " 'Russian Federation' 'Philippines' 'Bulgaria' 'Thailand' 'Argentina'\n",
      " 'Mexico' 'Saint Kitts and Nevis' 'Vietnam' 'Norway' 'Jordan' 'Taiwan'\n",
      " 'Slovakia' 'Israel' 'South Korea' 'Saudi Arabia' 'Hungary' 'Portugal'\n",
      " 'Cayman Islands' 'Costa Rica' 'Egypt' 'Laos' 'Turkey' 'Indonesia'\n",
      " 'Bahrain' 'Dominican Republic' 'Luxembourg' 'Finland' 'Trinidad & Tobago']\n",
      "Unique values in 'seat_type': ['Premium Economy' 'Business Class' 'Economy Class' 'First Class']\n"
     ]
    }
   ],
   "source": [
    "# Check for unique values in categorical columns\n",
    "print(\"Unique values in 'stars':\", df['stars'].unique())\n",
    "print(\"Unique values in 'country':\", df['country'].unique())\n",
    "print(\"Unique values in 'seat_type':\", df['seat_type'].unique())"
   ]
  },
  {
   "cell_type": "code",
   "execution_count": 36,
   "id": "e168ee32",
   "metadata": {},
   "outputs": [],
   "source": [
    "# All clear now make clean British Airlines Dataset by selecting columns for further analysis"
   ]
  },
  {
   "cell_type": "code",
   "execution_count": 37,
   "id": "2249cbe5",
   "metadata": {},
   "outputs": [
    {
     "data": {
      "text/plain": [
       "Index(['review_title', 'review_content', 'stars', 'review_date', 'country',\n",
       "       'route', 'seat_type', 'date_flown', 'verified', 'cleaned_reviews'],\n",
       "      dtype='object')"
      ]
     },
     "execution_count": 37,
     "metadata": {},
     "output_type": "execute_result"
    }
   ],
   "source": [
    "df.columns"
   ]
  },
  {
   "cell_type": "code",
   "execution_count": 39,
   "id": "a0faa7e0",
   "metadata": {},
   "outputs": [
    {
     "data": {
      "text/html": [
       "<div>\n",
       "<style scoped>\n",
       "    .dataframe tbody tr th:only-of-type {\n",
       "        vertical-align: middle;\n",
       "    }\n",
       "\n",
       "    .dataframe tbody tr th {\n",
       "        vertical-align: top;\n",
       "    }\n",
       "\n",
       "    .dataframe thead th {\n",
       "        text-align: right;\n",
       "    }\n",
       "</style>\n",
       "<table border=\"1\" class=\"dataframe\">\n",
       "  <thead>\n",
       "    <tr style=\"text-align: right;\">\n",
       "      <th></th>\n",
       "      <th>review_title</th>\n",
       "      <th>cleaned_reviews</th>\n",
       "      <th>stars</th>\n",
       "      <th>review_date</th>\n",
       "      <th>country</th>\n",
       "      <th>seat_type</th>\n",
       "      <th>verified</th>\n",
       "    </tr>\n",
       "  </thead>\n",
       "  <tbody>\n",
       "    <tr>\n",
       "      <th>0</th>\n",
       "      <td>“A very poor experience”</td>\n",
       "      <td>visa issue hence debarred flying ground staff ...</td>\n",
       "      <td>1.0</td>\n",
       "      <td>2024-11-05</td>\n",
       "      <td>India</td>\n",
       "      <td>Premium Economy</td>\n",
       "      <td>True</td>\n",
       "    </tr>\n",
       "    <tr>\n",
       "      <th>1</th>\n",
       "      <td>\"food and beverages being targeted\"</td>\n",
       "      <td>singapore heathrow ba two choice route economy...</td>\n",
       "      <td>6.0</td>\n",
       "      <td>2024-11-05</td>\n",
       "      <td>United Kingdom</td>\n",
       "      <td>Business Class</td>\n",
       "      <td>True</td>\n",
       "    </tr>\n",
       "    <tr>\n",
       "      <th>2</th>\n",
       "      <td>\"never fly with them again\"</td>\n",
       "      <td>recently travelled munich london british airwa...</td>\n",
       "      <td>1.0</td>\n",
       "      <td>2024-11-03</td>\n",
       "      <td>United Kingdom</td>\n",
       "      <td>Economy Class</td>\n",
       "      <td>True</td>\n",
       "    </tr>\n",
       "    <tr>\n",
       "      <th>3</th>\n",
       "      <td>\"still have not heard any updates\"</td>\n",
       "      <td>verified paid seat b flight heathrow boston pa...</td>\n",
       "      <td>3.0</td>\n",
       "      <td>2024-11-03</td>\n",
       "      <td>United States</td>\n",
       "      <td>Premium Economy</td>\n",
       "      <td>False</td>\n",
       "    </tr>\n",
       "    <tr>\n",
       "      <th>4</th>\n",
       "      <td>\"cabin crew were nice\"</td>\n",
       "      <td>verified flight bad although inflight entertai...</td>\n",
       "      <td>7.0</td>\n",
       "      <td>2024-11-03</td>\n",
       "      <td>United Kingdom</td>\n",
       "      <td>Economy Class</td>\n",
       "      <td>False</td>\n",
       "    </tr>\n",
       "  </tbody>\n",
       "</table>\n",
       "</div>"
      ],
      "text/plain": [
       "                          review_title  \\\n",
       "0             “A very poor experience”   \n",
       "1  \"food and beverages being targeted\"   \n",
       "2          \"never fly with them again\"   \n",
       "3   \"still have not heard any updates\"   \n",
       "4               \"cabin crew were nice\"   \n",
       "\n",
       "                                     cleaned_reviews  stars review_date  \\\n",
       "0  visa issue hence debarred flying ground staff ...    1.0  2024-11-05   \n",
       "1  singapore heathrow ba two choice route economy...    6.0  2024-11-05   \n",
       "2  recently travelled munich london british airwa...    1.0  2024-11-03   \n",
       "3  verified paid seat b flight heathrow boston pa...    3.0  2024-11-03   \n",
       "4  verified flight bad although inflight entertai...    7.0  2024-11-03   \n",
       "\n",
       "          country        seat_type  verified  \n",
       "0           India  Premium Economy      True  \n",
       "1  United Kingdom   Business Class      True  \n",
       "2  United Kingdom    Economy Class      True  \n",
       "3   United States  Premium Economy     False  \n",
       "4  United Kingdom    Economy Class     False  "
      ]
     },
     "execution_count": 39,
     "metadata": {},
     "output_type": "execute_result"
    }
   ],
   "source": [
    "# Selecting important columns for analysis\n",
    "selected = ['review_title', 'cleaned_reviews', 'stars', 'review_date', 'country','seat_type','verified']\n",
    "df_cleaned = df[selected]\n",
    "\n",
    "# Display the first few rows of the new DataFrame\n",
    "df_cleaned.head()\n"
   ]
  },
  {
   "cell_type": "code",
   "execution_count": 42,
   "id": "20558561",
   "metadata": {},
   "outputs": [
    {
     "data": {
      "text/plain": [
       "(3598, 7)"
      ]
     },
     "execution_count": 42,
     "metadata": {},
     "output_type": "execute_result"
    }
   ],
   "source": [
    "df_cleaned.shape"
   ]
  },
  {
   "cell_type": "code",
   "execution_count": 43,
   "id": "eb1bef74",
   "metadata": {},
   "outputs": [],
   "source": [
    "df_cleaned.to_csv(\"BA_cleaned_data.csv\", index=False, encoding=\"utf-8\")"
   ]
  },
  {
   "cell_type": "code",
   "execution_count": null,
   "id": "60e51d1d",
   "metadata": {},
   "outputs": [],
   "source": []
  }
 ],
 "metadata": {
  "kernelspec": {
   "display_name": "Python 3 (ipykernel)",
   "language": "python",
   "name": "python3"
  },
  "language_info": {
   "codemirror_mode": {
    "name": "ipython",
    "version": 3
   },
   "file_extension": ".py",
   "mimetype": "text/x-python",
   "name": "python",
   "nbconvert_exporter": "python",
   "pygments_lexer": "ipython3",
   "version": "3.11.7"
  }
 },
 "nbformat": 4,
 "nbformat_minor": 5
}
